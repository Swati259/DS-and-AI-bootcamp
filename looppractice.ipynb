{
 "cells": [
  {
   "cell_type": "code",
   "execution_count": 33,
   "id": "40fe1a7d-6706-4985-a6cb-77e4a4445a3f",
   "metadata": {},
   "outputs": [
    {
     "name": "stdin",
     "output_type": "stream",
     "text": [
      "enter the marks: 39\n"
     ]
    },
    {
     "name": "stdout",
     "output_type": "stream",
     "text": [
      "fail\n"
     ]
    }
   ],
   "source": [
    "marks = int(input ('enter the marks:'))\n",
    "if marks >= 40:\n",
    "    print('pass')\n",
    "else: \n",
    "    print('fail')"
   ]
  },
  {
   "cell_type": "code",
   "execution_count": 59,
   "id": "51bb480a-9fc5-44ae-9765-04bd5780457b",
   "metadata": {},
   "outputs": [
    {
     "name": "stdin",
     "output_type": "stream",
     "text": [
      "enter the marks: 61\n"
     ]
    },
    {
     "name": "stdout",
     "output_type": "stream",
     "text": [
      "excellent\n"
     ]
    }
   ],
   "source": [
    "marks = int(input ('enter the marks:'))\n",
    "if marks < 40:\n",
    "    print('fail')\n",
    "elif marks >= 40 and marks <= 60:\n",
    "    print('avg')\n",
    "else:\n",
    "    print('excellent')"
   ]
  },
  {
   "cell_type": "code",
   "execution_count": 67,
   "id": "5de1558f-5f6d-4d2e-aea0-37fd8930d46a",
   "metadata": {},
   "outputs": [
    {
     "name": "stdin",
     "output_type": "stream",
     "text": [
      "enter the balance: 600\n"
     ]
    },
    {
     "name": "stdout",
     "output_type": "stream",
     "text": [
      "thank you\n"
     ]
    }
   ],
   "source": [
    "balance = int(input('enter the balance:'))\n",
    "if balance<500:\n",
    "    print('alert low balance')\n",
    "else:\n",
    "    print('thank you')"
   ]
  },
  {
   "cell_type": "code",
   "execution_count": 71,
   "id": "e91998f1-b667-42d4-98ad-c494e27a5ec3",
   "metadata": {},
   "outputs": [
    {
     "name": "stdin",
     "output_type": "stream",
     "text": [
      "enter the credit score: 600\n"
     ]
    },
    {
     "name": "stdout",
     "output_type": "stream",
     "text": [
      "loan not approved\n"
     ]
    }
   ],
   "source": [
    "credit = int(input('enter the credit score:'))\n",
    "if credit>=700:\n",
    "    print('loan approved')\n",
    "else:\n",
    "    print('loan not approved')"
   ]
  },
  {
   "cell_type": "code",
   "execution_count": 77,
   "id": "15d6779d-3f44-4d52-a8cb-031c945b08a2",
   "metadata": {},
   "outputs": [
    {
     "name": "stdin",
     "output_type": "stream",
     "text": [
      "enter the amount: 600\n"
     ]
    },
    {
     "name": "stdout",
     "output_type": "stream",
     "text": [
      "Account not open\n"
     ]
    }
   ],
   "source": [
    "deposit_amt = int(input('enter the amount:'))\n",
    "if deposit_amt>=700:\n",
    "    print('Account open')\n",
    "else:\n",
    "    print('Account not open')"
   ]
  },
  {
   "cell_type": "code",
   "execution_count": 83,
   "id": "2fb3754d-a5df-41ec-aa1b-8a86c0db7838",
   "metadata": {},
   "outputs": [
    {
     "name": "stdin",
     "output_type": "stream",
     "text": [
      "enter the balance: 600\n"
     ]
    },
    {
     "name": "stdout",
     "output_type": "stream",
     "text": [
      "intrest amt: 6.0\n"
     ]
    }
   ],
   "source": [
    "balance = int(input('enter the balance:'))\n",
    "if balance<1000:\n",
    "    print('intrest amt:', balance*0.01)\n",
    "elif balance>1000 and balnce<5000:\n",
    "    print('intrest amt:', balance*0.015)\n",
    "elif balance>5000 and balnce<10000:\n",
    "    print('intrest amt:', balance*0.02)\n",
    "else:\n",
    "    print('intrest amt:', balance*0.025)"
   ]
  },
  {
   "cell_type": "code",
   "execution_count": null,
   "id": "1c0827a5-278f-4c4c-8430-65b71b0a6fc8",
   "metadata": {},
   "outputs": [],
   "source": []
  },
  {
   "cell_type": "code",
   "execution_count": null,
   "id": "e7b972fd-b1cb-45f3-8532-9189388733b5",
   "metadata": {},
   "outputs": [],
   "source": []
  },
  {
   "cell_type": "code",
   "execution_count": null,
   "id": "f76c0f3b-c117-4ddc-ad55-019e31718e68",
   "metadata": {},
   "outputs": [],
   "source": []
  },
  {
   "cell_type": "code",
   "execution_count": null,
   "id": "122a666e-b829-4f94-b16b-463f238e3253",
   "metadata": {},
   "outputs": [],
   "source": []
  },
  {
   "cell_type": "code",
   "execution_count": null,
   "id": "50a44488-3dcf-420b-8b9d-c8eb707a7daa",
   "metadata": {},
   "outputs": [],
   "source": []
  },
  {
   "cell_type": "code",
   "execution_count": null,
   "id": "4f9a3674-d0cb-4e6e-a453-ef446e4e1ea8",
   "metadata": {},
   "outputs": [],
   "source": []
  }
 ],
 "metadata": {
  "kernelspec": {
   "display_name": "Python 3 (ipykernel)",
   "language": "python",
   "name": "python3"
  },
  "language_info": {
   "codemirror_mode": {
    "name": "ipython",
    "version": 3
   },
   "file_extension": ".py",
   "mimetype": "text/x-python",
   "name": "python",
   "nbconvert_exporter": "python",
   "pygments_lexer": "ipython3",
   "version": "3.12.4"
  }
 },
 "nbformat": 4,
 "nbformat_minor": 5
}
